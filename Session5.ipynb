{
  "nbformat": 4,
  "nbformat_minor": 0,
  "metadata": {
    "colab": {
      "name": "Untitled24.ipynb",
      "provenance": [],
      "authorship_tag": "ABX9TyOutIlZ6vnafrJAHLE4XIqf",
      "include_colab_link": true
    },
    "kernelspec": {
      "name": "python3",
      "display_name": "Python 3"
    }
  },
  "cells": [
    {
      "cell_type": "markdown",
      "metadata": {
        "id": "view-in-github",
        "colab_type": "text"
      },
      "source": [
        "<a href=\"https://colab.research.google.com/github/24parvathi19/Class-Assignment-1---Getting-Started-with-Python-Programming/blob/master/Session5.ipynb\" target=\"_parent\"><img src=\"https://colab.research.google.com/assets/colab-badge.svg\" alt=\"Open In Colab\"/></a>"
      ]
    },
    {
      "cell_type": "code",
      "metadata": {
        "colab": {
          "base_uri": "https://localhost:8080/"
        },
        "id": "USR_g-15M0L3",
        "outputId": "7213f1a9-eee3-46ef-8da4-a29332824f81"
      },
      "source": [
        "class Cat:\n",
        "    def name(self):\n",
        "        print(\"Name of the cat is:listy\")\n",
        "    def age(self):\n",
        "        print(\"Age of the cat is: 5\")\n",
        "    def make_sound(self):\n",
        "        print(\"meow meow\")\n",
        "class Dog:\n",
        "    def name(self):\n",
        "        print(\"Name of the dog is:leo\")\n",
        "    def age(self):\n",
        "        print (\"age of the dog is: 6\")\n",
        "    def make_sound(self):\n",
        "        print (\"bark bark\")  \n",
        "        \n",
        "obj_cat=Cat()\n",
        "obj_dog=Dog()\n",
        "for info in (obj_cat,obj_dog):\n",
        "    info.name()\n",
        "    info.age()\n",
        "    info.make_sound()"
      ],
      "execution_count": 10,
      "outputs": [
        {
          "output_type": "stream",
          "text": [
            "Name of the cat is:listy\n",
            "Age of the cat is: 5\n",
            "meow meow\n",
            "Name of the dog is:leo\n",
            "age of the dog is: 6\n",
            "bark bark\n"
          ],
          "name": "stdout"
        }
      ]
    },
    {
      "cell_type": "code",
      "metadata": {
        "colab": {
          "base_uri": "https://localhost:8080/"
        },
        "id": "NYb-PkwyQUiP",
        "outputId": "ff21b9bd-36d4-4f55-f166-67c71a2ca585"
      },
      "source": [
        "from math import pi\n",
        "class Shape:\n",
        "   def __init__(self, name):\n",
        "          self.name=name\n",
        "class Square(Shape):\n",
        "   def __init__(self,length):\n",
        "         super(). __init__(\"Square\")\n",
        "         self.length =length\n",
        "   def area(self):\n",
        "         return self.length *self.length\n",
        "   def fact(self):\n",
        "         return \"All four sides are equal.\"\n",
        "class Circle(Shape):\n",
        "   def __init__(self, radius):\n",
        "        super().__init__(\"Circle\")\n",
        "        self.radius =radius\n",
        "   def area(self):\n",
        "          return self.radius**2*pi\n",
        "a=Square(4)\n",
        "b=Circle(6)\n",
        "print(a)\n",
        "print(b)\n",
        "print(a.area())\n",
        "print(b. area())\n",
        "print(a. fact())"
      ],
      "execution_count": 11,
      "outputs": [
        {
          "output_type": "stream",
          "text": [
            "<__main__.Square object at 0x7fe0af20a208>\n",
            "<__main__.Circle object at 0x7fe0af20afd0>\n",
            "16\n",
            "113.09733552923255\n",
            "All four sides are equal.\n"
          ],
          "name": "stdout"
        }
      ]
    }
  ]
}