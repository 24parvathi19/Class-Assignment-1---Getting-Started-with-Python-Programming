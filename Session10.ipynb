{
  "nbformat": 4,
  "nbformat_minor": 0,
  "metadata": {
    "colab": {
      "name": "Untitled30.ipynb",
      "provenance": [],
      "collapsed_sections": [],
      "authorship_tag": "ABX9TyO5RuLN+Y8bs91NBv0enxQD",
      "include_colab_link": true
    },
    "kernelspec": {
      "name": "python3",
      "display_name": "Python 3"
    }
  },
  "cells": [
    {
      "cell_type": "markdown",
      "metadata": {
        "id": "view-in-github",
        "colab_type": "text"
      },
      "source": [
        "<a href=\"https://colab.research.google.com/github/24parvathi19/Class-Assignment-1---Getting-Started-with-Python-Programming/blob/master/Session10.ipynb\" target=\"_parent\"><img src=\"https://colab.research.google.com/assets/colab-badge.svg\" alt=\"Open In Colab\"/></a>"
      ]
    },
    {
      "cell_type": "code",
      "metadata": {
        "id": "WAKoV5yYtmbB"
      },
      "source": [
        "#1\n",
        "l=int(input(\"lower value:\"))\n",
        "u=int(input(\"upper value:\"))\n",
        "c=0\n",
        "for i in range(l,u + 1):\n",
        "   if  i> 1:\n",
        "       for j in range(2,i):\n",
        "           if (i%j) == 0:\n",
        "               break\n",
        "       else:\n",
        "           c+=1\n",
        "print(c)"
      ],
      "execution_count": null,
      "outputs": []
    },
    {
      "cell_type": "code",
      "metadata": {
        "id": "FOAIEOjN5Mzj"
      },
      "source": [
        "#2\n",
        "print(\"Input three integers(sides of a triangle)\")\n",
        "int_num = list(map(int,input().split()))\n",
        "x,y,z = sorted(int_num)\n",
        "if x**2+y**2==z**2:\n",
        "    print('Yes')\n",
        "else:\n",
        "    print('No')"
      ],
      "execution_count": null,
      "outputs": []
    },
    {
      "cell_type": "code",
      "metadata": {
        "id": "Fk98pW37tuMS"
      },
      "source": [
        " \n",
        "#3\n",
        "l=int(input(\"lower value:\"))\n",
        "u=int(input(\"upper value:\"))\n",
        "c=0\n",
        "for i in range(l,u + 1):\n",
        "   if  i> 1:\n",
        "       for j in range(2,i):\n",
        "           if (i%j) == 0:\n",
        "               break\n",
        "       else:\n",
        "           c+=1\n",
        "print(c)"
      ],
      "execution_count": null,
      "outputs": []
    },
    {
      "cell_type": "code",
      "metadata": {
        "id": "3IYMAWh1tug4"
      },
      "source": [
        " \n",
        "#4\n",
        "celsius = float(input(\"Enter temperature in celsius: \"))\n",
        "fahrenheit = (celsius * 9/5) + 32\n",
        "print('%.2f Celsius is: %0.2f Fahrenheit' %(celsius, fahrenheit))"
      ],
      "execution_count": null,
      "outputs": []
    },
    {
      "cell_type": "code",
      "metadata": {
        "id": "iregrqs3tyO2"
      },
      "source": [
        " \n",
        "#5\n",
        "b = int(input(\"Input the base : \"))\n",
        "h = int(input(\"Input the height : \"))\n",
        " \n",
        "area = b*h/2\n",
        " \n",
        "print(\"area = \", area)"
      ],
      "execution_count": null,
      "outputs": []
    }
  ]
}