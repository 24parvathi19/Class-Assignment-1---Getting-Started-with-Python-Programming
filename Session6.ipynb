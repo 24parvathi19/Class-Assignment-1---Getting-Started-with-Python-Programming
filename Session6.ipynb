{
  "nbformat": 4,
  "nbformat_minor": 0,
  "metadata": {
    "colab": {
      "name": "Untitled",
      "provenance": [],
      "authorship_tag": "ABX9TyODNy9zHNB5eKtkc0K6S9Ue",
      "include_colab_link": true
    },
    "kernelspec": {
      "name": "python3",
      "display_name": "Python 3"
    }
  },
  "cells": [
    {
      "cell_type": "markdown",
      "metadata": {
        "id": "view-in-github",
        "colab_type": "text"
      },
      "source": [
        "<a href=\"https://colab.research.google.com/github/24parvathi19/Class-Assignment-1---Getting-Started-with-Python-Programming/blob/master/Session6.ipynb\" target=\"_parent\"><img src=\"https://colab.research.google.com/assets/colab-badge.svg\" alt=\"Open In Colab\"/></a>"
      ]
    },
    {
      "cell_type": "markdown",
      "metadata": {
        "id": "aE2vaFBIUerL"
      },
      "source": [
        "SESSION 6"
      ]
    },
    {
      "cell_type": "code",
      "metadata": {
        "colab": {
          "base_uri": "https://localhost:8080/"
        },
        "id": "8K6VbItFXnpN",
        "outputId": "db099bad-d166-4757-8762-7ec71ffe046e"
      },
      "source": [
        " \n",
        "#1.a\n",
        "def grade(myfile):\n",
        "  f1 = open(myfile, \"r\")\n",
        "  total_marks=0\n",
        "  while True:\n",
        "    text = f1.readline() \n",
        "    if text == \"\":\n",
        "      break\n",
        "    marks = text[-3:-1]\n",
        "    total_marks+=int(marks)\n",
        "    print(marks)\n",
        "  print(\"Total Marks:\",total_marks)  \n",
        "  print(\"Percentage:\",total_marks/400*100)\n",
        "  \n",
        "f = open(\"mygrade.dat\",\"w\")\n",
        "f.write(\"Physics\\t 80\\n\")\n",
        "f.write(\"Chemistry\\t 78\\n\")\n",
        "f.write(\"Maths\\t 96\\n\")\n",
        "f.write(\"English\\t 94\\n\")\n",
        "f.close()\n",
        "f = open(\"mygrade.dat\",\"r\")\n",
        "text = f.read()\n",
        "print(text)\n",
        "grade('mygrade.dat')"
      ],
      "execution_count": null,
      "outputs": [
        {
          "output_type": "stream",
          "text": [
            "Physics\t 80\n",
            "Chemistry\t 78\n",
            "Maths\t 96\n",
            "English\t 94\n",
            "\n",
            "80\n",
            "78\n",
            "96\n",
            "94\n",
            "Total Marks: 348\n",
            "Percentage: 87.0\n"
          ],
          "name": "stdout"
        }
      ]
    },
    {
      "cell_type": "code",
      "metadata": {
        "colab": {
          "base_uri": "https://localhost:8080/"
        },
        "id": "Gk1lOXtVaNXa",
        "outputId": "1921189a-b352-4ef6-cdd5-6cc3c1b885a9"
      },
      "source": [
        " \n",
        "#1.b\n",
        "def filterFile(oldFile):\n",
        "  f1 = open(oldFile, \"r\")\n",
        "  while True:\n",
        "    text = f1.readline() \n",
        "    if text == \"\":\n",
        "      break\n",
        "    if text[0] == '#':\n",
        "      continue\n",
        "    print(text)\n",
        "  f1.close()\n",
        " \n",
        "  return\n",
        "f = open(\"mydata.dat\",\"w\")\n",
        "f.write(\"First Line\\n\")\n",
        "f.write(\"#Second Line\\n\")\n",
        "f.write(\"Third Line\\n\")\n",
        "f.write(\"Fourth Line\\n\")\n",
        "f.close()\n",
        " \n",
        "f = open(\"mydata.dat\",\"r\")\n",
        "text = f.read()\n",
        "print(text)\n",
        " \n",
        "filterFile(\"mydata.dat\")"
      ],
      "execution_count": null,
      "outputs": [
        {
          "output_type": "stream",
          "text": [
            "First Line\n",
            "#Second Line\n",
            "Third Line\n",
            "Fourth Line\n",
            "\n",
            "First Line\n",
            "\n",
            "Third Line\n",
            "\n",
            "Fourth Line\n",
            "\n"
          ],
          "name": "stdout"
        }
      ]
    },
    {
      "cell_type": "code",
      "metadata": {
        "id": "B0SfcOLrbIBi",
        "colab": {
          "base_uri": "https://localhost:8080/"
        },
        "outputId": "ece67816-d6a7-44e0-f4a3-7f86458663b6"
      },
      "source": [
        " \n",
        "#2. A\n",
        "import string\n",
        "f = open(\"words1.txt\", \"w\")\n",
        "def lettersinline(n):\n",
        "       alphabet = string.ascii_uppercase\n",
        "       print(alphabet)\n",
        "       for i in range(0, len(alphabet),n):\n",
        "        letters = alphabet[i:i + n]\n",
        "        f.write(letters)\n",
        "        f.write(\"\\n\")\n",
        "lettersinline(3)\n",
        "f = open(\"words1.txt\",\"r\")\n",
        "text = f.read()\n",
        "print(text)"
      ],
      "execution_count": 10,
      "outputs": [
        {
          "output_type": "stream",
          "text": [
            "ABCDEFGHIJKLMNOPQRSTUVWXYZ\n",
            "ABC\n",
            "DEF\n",
            "GHI\n",
            "JKL\n",
            "MNO\n",
            "PQR\n",
            "STU\n",
            "VWX\n",
            "YZ\n",
            "\n"
          ],
          "name": "stdout"
        }
      ]
    },
    {
      "cell_type": "code",
      "metadata": {
        "colab": {
          "base_uri": "https://localhost:8080/"
        },
        "id": "Nu-8HCl8bapW",
        "outputId": "25739776-666b-4578-ccd2-d4fedad5c7b1"
      },
      "source": [
        " \n",
        "#2. B\n",
        "def savetolist(myfile):\n",
        "  f1 = open(myfile, \"r\")\n",
        "  mylist=[]\n",
        "  while True:\n",
        "    text = f1.readline() \n",
        "    if text == \"\":\n",
        "      break\n",
        "    text=text[:-1] \n",
        "    mylist.append(text)\n",
        "  f1.close()\n",
        "  return mylist\n",
        "f = open(\"mydata.dat\",\"w\")\n",
        "f.write(\"korea\\n\")\n",
        "f.write(\"india\\n\")\n",
        "f.write(\"paris\\n\")\n",
        "f.write(\"italy\\n\")\n",
        "f.close()\n",
        "f = open(\"mydata.dat\",\"r\")\n",
        "text = f.read()\n",
        "print(text)\n",
        "savetolist(\"mydata.dat\")"
      ],
      "execution_count": 11,
      "outputs": [
        {
          "output_type": "stream",
          "text": [
            "korea\n",
            "india\n",
            "paris\n",
            "italy\n",
            "\n"
          ],
          "name": "stdout"
        },
        {
          "output_type": "execute_result",
          "data": {
            "text/plain": [
              "['korea', 'india', 'paris', 'italy']"
            ]
          },
          "metadata": {
            "tags": []
          },
          "execution_count": 11
        }
      ]
    }
  ]
}