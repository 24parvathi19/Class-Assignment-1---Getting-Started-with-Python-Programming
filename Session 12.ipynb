{
  "nbformat": 4,
  "nbformat_minor": 0,
  "metadata": {
    "colab": {
      "name": "Untitled33.ipynb",
      "provenance": [],
      "authorship_tag": "ABX9TyPUgUKhttUqmHnD3UrQFvp/",
      "include_colab_link": true
    },
    "kernelspec": {
      "name": "python3",
      "display_name": "Python 3"
    }
  },
  "cells": [
    {
      "cell_type": "markdown",
      "metadata": {
        "id": "view-in-github",
        "colab_type": "text"
      },
      "source": [
        "<a href=\"https://colab.research.google.com/github/24parvathi19/Class-Assignment-1---Getting-Started-with-Python-Programming/blob/master/Session%2012.ipynb\" target=\"_parent\"><img src=\"https://colab.research.google.com/assets/colab-badge.svg\" alt=\"Open In Colab\"/></a>"
      ]
    },
    {
      "cell_type": "code",
      "metadata": {
        "id": "OWjms9-CH9hA"
      },
      "source": [
        "n=4\n",
        "b=[]\n",
        "for i in range(0,n):\n",
        "    a=int(input(\"Element: \"))\n",
        "    b.append(a)\n",
        "sum1=0\n",
        "sum2=0\n",
        "sum3=0\n",
        "for j in b:\n",
        "    if(j>0):\n",
        "        if(j%2==0):\n",
        "            sum1=sum1+j\n",
        "        else:\n",
        "            sum2=sum2+j\n",
        "    else:\n",
        "        sum3=sum3+j\n",
        "print(\"Sum of all positive even numbers:\",sum1)\n",
        "print(\"Sum of all positive odd numbers:\",sum2)\n",
        "print(\"Sum of all negative numbers:\",sum3)"
      ],
      "execution_count": null,
      "outputs": []
    },
    {
      "cell_type": "code",
      "metadata": {
        "id": "yhkIKyNdS4VB"
      },
      "source": [
        "test_str = \"Welcome home\"\n",
        "  \n",
        "\n",
        "all_freq = {} \n",
        "  \n",
        "for i in test_str: \n",
        "    if i in all_freq: \n",
        "        all_freq[i] += 1\n",
        "    else: \n",
        "        all_freq[i] = 1\n",
        "  \n",
        "\n",
        "print (\"Count of all characters in Welcome home is :\\n \""
      ],
      "execution_count": null,
      "outputs": []
    },
    {
      "cell_type": "code",
      "metadata": {
        "id": "1tTaHdQqS9Aw"
      },
      "source": [
        "my_list = [-45, -86, 75, 30, 6, -76, 3, 7]\n",
        "new_list = []\n",
        " \n",
        "while my_list:\n",
        "    min = my_list[0]  \n",
        "    for x in my_list: \n",
        "        if x < min:\n",
        "            min = x\n",
        "    new_list.append(min)\n",
        "    my_list.remove(min)    \n",
        " \n",
        "print(new_list)"
      ],
      "execution_count": null,
      "outputs": []
    },
    {
      "cell_type": "code",
      "metadata": {
        "id": "0Oso9CW8TA36"
      },
      "source": [
        " function which return reverse of a string\n",
        " \n",
        "def isPalindrome(s):\n",
        "    return s == s[::-1]\n",
        " \n",
        "s = \"malayalam\"\n",
        "ans = isPalindrome(s)\n",
        " \n",
        "if ans:\n",
        "    print(\"Yes\")\n",
        "else:\n",
        "    print(\"No\")"
      ],
      "execution_count": null,
      "outputs": []
    },
    {
      "cell_type": "code",
      "metadata": {
        "id": "oM0Wm0w8TD0n"
      },
      "source": [
        "import math; \n",
        "  \n",
        "def cal_sin(n): \n",
        "  \n",
        "    accuracy = 0.0001; \n",
        "      \n",
        "    \n",
        "    n = n * (3.142 / 180.0);  \n",
        "      \n",
        "    x1 = n; \n",
        "      \n",
        "     \n",
        "    sinx = n;      \n",
        "      \n",
        "     \n",
        "    sinval = math.sin(n);  \n",
        "    i = 1; \n",
        "    while(True): \n",
        "      \n",
        "        denominator = 2 * i * (2 * i + 1); \n",
        "        x1 = -x1 * n * n / denominator; \n",
        "        sinx = sinx + x1; \n",
        "        i = i + 1; \n",
        "        if(accuracy <= abs(sinval - sinx)): \n",
        "            break; \n",
        "          \n",
        "    print(round(sinx)); \n",
        "  \n",
        " \n",
        "n = 90; \n",
        "cal_sin(n);"
      ],
      "execution_count": null,
      "outputs": []
    },
    {
      "cell_type": "code",
      "metadata": {
        "id": "pvSnySBZTHjh"
      },
      "source": [
        "l, u, p, d = 0, 0, 0, 0\n",
        "s = \"D#d#_k1oki8f₹\"\n",
        "if (len(s) >= 8): \n",
        "    for i in s: \n",
        "  \n",
        "          \n",
        "        if (i.islower()): \n",
        "            l+=1            \n",
        "  \n",
        "        \n",
        "        if (i.isupper()): \n",
        "            u+=1            \n",
        "  \n",
        "       \n",
        "        if (i.isdigit()): \n",
        "            d+=1            \n",
        "  \n",
        "         \n",
        "        if(i=='@'or i=='$' or i=='_'): \n",
        "            p+=1           \n",
        "if (l>=1 and u>=1 and p>=1 and d>=1 and l+p+u+d==len(s)): \n",
        "    print(\"Valid Password\") \n",
        "else: \n",
        "    print(\"Invalid Password\")"
      ],
      "execution_count": null,
      "outputs": []
    }
  ]
}