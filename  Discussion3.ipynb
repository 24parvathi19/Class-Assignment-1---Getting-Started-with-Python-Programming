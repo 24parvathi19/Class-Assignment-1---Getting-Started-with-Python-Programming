{
  "nbformat": 4,
  "nbformat_minor": 0,
  "metadata": {
    "colab": {
      "name": "Untitled20.ipynb",
      "provenance": [],
      "authorship_tag": "ABX9TyNzXd9wTwlL8lnwwTFWK5UM",
      "include_colab_link": true
    },
    "kernelspec": {
      "name": "python3",
      "display_name": "Python 3"
    }
  },
  "cells": [
    {
      "cell_type": "markdown",
      "metadata": {
        "id": "view-in-github",
        "colab_type": "text"
      },
      "source": [
        "<a href=\"https://colab.research.google.com/github/24parvathi19/Class-Assignment-1---Getting-Started-with-Python-Programming/blob/master/%20Discussion3.ipynb\" target=\"_parent\"><img src=\"https://colab.research.google.com/assets/colab-badge.svg\" alt=\"Open In Colab\"/></a>"
      ]
    },
    {
      "cell_type": "code",
      "metadata": {
        "colab": {
          "base_uri": "https://localhost:8080/"
        },
        "id": "nLTBP-byRwl9",
        "outputId": "9a65c4b5-5d0f-4c0c-da47-3603fd8f934a"
      },
      "source": [
        "class Numbers():\n",
        "    num=int()\n",
        "    sum_of_num=int()\n",
        "    def __init__(self):\n",
        "        self.num=0\n",
        "        self.sum_of_num=0\n",
        " \n",
        "    def num_input(self):\n",
        "        num = input(\"ENTER THE NUMBER:\")\n",
        "        self.digit_sum(num)\n",
        " \n",
        "    def digit_sum(self,num):\n",
        "        sum_of_num=int(num)\n",
        "        while int(sum_of_num) > 10:\n",
        "            ls_dig = [int(x) for x in str(sum_of_num)]\n",
        "            sum_of_num=sum(ls_dig)\n",
        "            self.num_output(sum_of_num)\n",
        " \n",
        "    def num_output(self,sum_of_num):\n",
        "        print(\"SUM OF DIGITS:\",sum_of_num)\n",
        " \n",
        "p=Numbers()\n",
        "p.num_input()"
      ],
      "execution_count": 1,
      "outputs": [
        {
          "output_type": "stream",
          "text": [
            "ENTER THE NUMBER:1236\n",
            "SUM OF DIGITS: 12\n",
            "SUM OF DIGITS: 3\n"
          ],
          "name": "stdout"
        }
      ]
    },
    {
      "cell_type": "code",
      "metadata": {
        "colab": {
          "base_uri": "https://localhost:8080/"
        },
        "id": "b7L7ASQHSABP",
        "outputId": "86e91f03-1634-4d77-bef2-31eeedbc4074"
      },
      "source": [
        "class Polygon:\n",
        "    def __init__(self,number,name):\n",
        "        self.number = number\n",
        "        self.name=name\n",
        "        self.sides=[]\n",
        "    def inputSides(self):\n",
        "        print(self.name)\n",
        "        for i in range(0,self.number):\n",
        "            ele=float(input(\"Enter side \"+str(i+1)+\" : \"))\n",
        "            self.sides.append(ele)\n",
        "class Triangle(Polygon):\n",
        "    def __init__(self):\n",
        "        Polygon.__init__(self, 3 ,\"TRIANGLE :\")\n",
        " \n",
        "    def triarea(self):\n",
        "        a, b, c = self.sides\n",
        "        j = (a + b + c) / 2\n",
        "        area = (j*(j-a)*(j-b)*(j-c)) ** 0.5\n",
        "        print(\"The area of the triangle is : %0.2f  \" % area)\n",
        " \n",
        "class Square(Polygon):\n",
        " \n",
        "    def __init__(self):\n",
        "        Polygon.__init__(self, 2, \"SQUARE :\")\n",
        "    \n",
        "    def sqArea(self):\n",
        "        a, b = self.sides\n",
        "        area=a**2\n",
        "        print(\"The area of square is : %0.2f  \" % area)\n",
        " \n",
        " \n",
        "ob = Triangle()\n",
        "ob.inputSides()\n",
        "ob.triarea()\n",
        "ob1 = Square()\n",
        "ob1.inputSides()\n",
        "ob1.sqArea()"
      ],
      "execution_count": 3,
      "outputs": [
        {
          "output_type": "stream",
          "text": [
            "TRIANGLE :\n",
            "Enter side 1 : 4\n",
            "Enter side 2 : 3\n",
            "Enter side 3 : 2\n",
            "The area of the triangle is : 2.90  \n",
            "SQUARE :\n",
            "Enter side 1 : 3\n",
            "Enter side 2 : 3\n",
            "The area of square is : 9.00  \n"
          ],
          "name": "stdout"
        }
      ]
    }
  ]
}