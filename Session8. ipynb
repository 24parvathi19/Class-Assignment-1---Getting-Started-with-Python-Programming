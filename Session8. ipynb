{
  "nbformat": 4,
  "nbformat_minor": 0,
  "metadata": {
    "colab": {
      "name": "Untitled28.ipynb",
      "provenance": [],
      "collapsed_sections": [],
      "authorship_tag": "ABX9TyPiWwk5rCTq5Fz5tpzAUyLS",
      "include_colab_link": true
    },
    "kernelspec": {
      "name": "python3",
      "display_name": "Python 3"
    }
  },
  "cells": [
    {
      "cell_type": "markdown",
      "metadata": {
        "id": "view-in-github",
        "colab_type": "text"
      },
      "source": [
        "<a href=\"https://colab.research.google.com/github/24parvathi19/Class-Assignment-1---Getting-Started-with-Python-Programming/blob/master/Session8.%20ipynb\" target=\"_parent\"><img src=\"https://colab.research.google.com/assets/colab-badge.svg\" alt=\"Open In Colab\"/></a>"
      ]
    },
    {
      "cell_type": "code",
      "metadata": {
        "colab": {
          "base_uri": "https://localhost:8080/"
        },
        "id": "B3QvBYqkpL8z",
        "outputId": "a3d28c44-e038-4e16-803c-81f201f0c0d2"
      },
      "source": [
        "#1.\n",
        "def sum():\n",
        " add=lambda n:n+15\n",
        " print(add(5))\n",
        "def prod():\n",
        " multi=lambda x,y:x*y\n",
        " print(multi(1,3))\n",
        "sum()\n",
        "prod()"
      ],
      "execution_count": 2,
      "outputs": [
        {
          "output_type": "stream",
          "text": [
            "20\n",
            "3\n"
          ],
          "name": "stdout"
        }
      ]
    },
    {
      "cell_type": "code",
      "metadata": {
        "colab": {
          "base_uri": "https://localhost:8080/"
        },
        "id": "8Oj7dsHcpdL_",
        "outputId": "4898d228-78bd-43fc-b175-ce6caa55c79d"
      },
      "source": [
        "#2.\n",
        "def Max(list):\n",
        "    if len(list) == 1:\n",
        "        return list[0]\n",
        "    else:\n",
        "        m = Max(list[1:])\n",
        "        if m > list[0]:\n",
        "            return m \n",
        "        else:\n",
        "            return list[0]\n",
        " \n",
        "list = [67,49,27,34,99,6]\n",
        "print(\"The largest number in the list is : \", Max(list))"
      ],
      "execution_count": 15,
      "outputs": [
        {
          "output_type": "stream",
          "text": [
            "The largest number in the list is :  99\n"
          ],
          "name": "stdout"
        }
      ]
    },
    {
      "cell_type": "code",
      "metadata": {
        "id": "ZGZVofkAvuTz"
      },
      "source": [
        "#3.\n",
        "n=int(input(\"Enter the number of elements to be inserted: \"))\n",
        "a=[]\n",
        "for i in range(0,n):\n",
        "    elem=int(input(\"Enter element: \"))\n",
        "    a.append(elem)\n",
        "avg=sum(a)/n\n",
        "print(\"Average of elements in the list\",round(avg,2))"
      ],
      "execution_count": null,
      "outputs": []
    },
    {
      "cell_type": "code",
      "metadata": {
        "id": "U1qexGyLv4SE"
      },
      "source": [
        "#4.\n",
        "my_list = ['d', 'k']\n",
        "n = 4\n",
        "new_list = ['{}{}'.format(x, y) for y in range(1, n+1) for x in my_list]\n",
        "print(new_list)"
      ],
      "execution_count": null,
      "outputs": []
    },
    {
      "cell_type": "code",
      "metadata": {
        "colab": {
          "base_uri": "https://localhost:8080/"
        },
        "id": "l_-L0mDzpfKl",
        "outputId": "719a21d8-be16-4970-cf27-1ba7d4c52046"
      },
      "source": [
        "#5.\n",
        "def fibo(n):\n",
        "   if n <= 1:\n",
        "       return n\n",
        "   else:\n",
        "       return(fibo(n-1) + fibo(n-2))\n",
        "n=int(input())\n",
        "num=fibo(n)\n",
        "print(num)"
      ],
      "execution_count": 3,
      "outputs": [
        {
          "output_type": "stream",
          "text": [
            "4\n",
            "3\n"
          ],
          "name": "stdout"
        }
      ]
    },
    {
      "cell_type": "code",
      "metadata": {
        "colab": {
          "base_uri": "https://localhost:8080/"
        },
        "id": "DtXq8Ph1pr0u",
        "outputId": "c0af3c2c-a033-4d9e-a46b-d0c2f132c7a9"
      },
      "source": [
        "#6.\n",
        "def recur_sum(n):\n",
        "   if n <= 1:\n",
        "       return n\n",
        "   else:\n",
        "       return n + recur_sum(n-1)\n",
        "num = 16\n",
        "\n",
        "if num < 0:\n",
        "   print(\"Enter a positive number\")\n",
        "else:\n",
        "   print(\"The sum is\",recur_sum(num))"
      ],
      "execution_count": 13,
      "outputs": [
        {
          "output_type": "stream",
          "text": [
            "The sum is 120\n"
          ],
          "name": "stdout"
        }
      ]
    },
    {
      "cell_type": "code",
      "metadata": {
        "colab": {
          "base_uri": "https://localhost:8080/"
        },
        "id": "2izg3l4upsQi",
        "outputId": "7725dae4-def5-4688-f74a-5334fc994a2d"
      },
      "source": [
        "#7.\n",
        "def factorial(x):\n",
        "    if x==1:\n",
        "        return 1\n",
        "    else:\n",
        "        return x*factorial(x-1)\n",
        " \n",
        "f=factorial(6)\n",
        "print (f)"
      ],
      "execution_count": 5,
      "outputs": [
        {
          "output_type": "stream",
          "text": [
            "720\n"
          ],
          "name": "stdout"
        }
      ]
    }
  ]
}