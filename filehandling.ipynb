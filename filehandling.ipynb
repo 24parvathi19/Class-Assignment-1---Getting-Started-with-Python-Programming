{
  "nbformat": 4,
  "nbformat_minor": 0,
  "metadata": {
    "colab": {
      "name": "Untitled13.ipynb",
      "provenance": [],
      "collapsed_sections": [],
      "authorship_tag": "ABX9TyPLRDmjNMKtQAC+wvPjRkLI",
      "include_colab_link": true
    },
    "kernelspec": {
      "name": "python3",
      "display_name": "Python 3"
    }
  },
  "cells": [
    {
      "cell_type": "markdown",
      "metadata": {
        "id": "view-in-github",
        "colab_type": "text"
      },
      "source": [
        "<a href=\"https://colab.research.google.com/github/24parvathi19/Class-Assignment-1---Getting-Started-with-Python-Programming/blob/master/filehandling.ipynb\" target=\"_parent\"><img src=\"https://colab.research.google.com/assets/colab-badge.svg\" alt=\"Open In Colab\"/></a>"
      ]
    },
    {
      "cell_type": "markdown",
      "metadata": {
        "id": "f-AxiYkSU7yx"
      },
      "source": [
        "Write a program to read numbers sorted in one file and store the stored numbers in another file after deleting duplicate"
      ]
    },
    {
      "cell_type": "code",
      "metadata": {
        "id": "o7I5dRueamZW"
      },
      "source": [
        ""
      ],
      "execution_count": null,
      "outputs": []
    },
    {
      "cell_type": "code",
      "metadata": {
        "id": "6KbhB3FbVPfA"
      },
      "source": [
        "file1 = open(\"C:\\\\Users\\\\Parvathi\\\\Documents\\\\file1.txt\",\"w\")\n",
        "file1.write(\"%d %d %d %d %d %d\"(9,1,4,3,2,4))\n",
        "\n",
        "file1.close()\n",
        "file1 = open(\"C:\\\\Users\\\\Parvathi\\\\Documents\\\\file1.txt\",\"r\")\n",
        "t = file1.readline()\n",
        "t = t.split(\" \")\n",
        "e =[int(i) for i in t]\n",
        "e.sort()\n",
        "j =[]\n",
        "for n in e:\n",
        "    if n not in m:\n",
        "        m.append(n)\n",
        "file1.close()\n",
        "file1 = open(\"C:\\\\Users\\\\Parvathi\\\\Documents\\\\file1.txt\",\"w\")\n",
        "file1.write(m)\n",
        "file1.close()\n",
        "file1 = open(\"C:\\\\Users\\\\Parvathi\\\\Documents\\\\file1.txt\",\"r\")\n",
        "p = ','.join(str(o) for o in m)\n",
        "file1.close()\n",
        "file1 = open(\"C:\\\\Users\\\\Parvathi\\\\Documents\\\\file1.txt\",\"w\")\n",
        "file1.write(p)\n",
        " \n",
        "file1.close()\n",
        "def copyFile(oldFile, newFile):\n",
        "  f1 = open(oldFile, \"r\")\n",
        "  f2 = open(newFile, \"w\")\n",
        "  while True:\n",
        "    text = f1.read(50) \n",
        "    if text == \"\":\n",
        "      break\n",
        "    f2.write(text)\n",
        "  f1.close()\n",
        "  f2.close()\n",
        "  return\n",
        " \n",
        "copyFile(\"C:\\\\Users\\\\Parvathi\\\\Documents\\\\file1.txt\",\"C:\\\\Users\\\\Parvathi\\\\Documents\\\\file2.txt\")\n",
        "file2 = open(\"C:\\\\Users\\\\Parvathi\\\\Documents\\\\file2.txt\",\"r\")\n",
        "print(file2.read())\n",
        "4,2,3,1,9"
      ],
      "execution_count": null,
      "outputs": []
    },
    {
      "cell_type": "markdown",
      "metadata": {
        "id": "8zRbSB-0Y-7K"
      },
      "source": [
        "Write a program code to read a text file,copy the contents to another file after removing blank lines"
      ]
    },
    {
      "cell_type": "code",
      "metadata": {
        "id": "Qgbmwdfja_In"
      },
      "source": [
        "file1 = open(\"C:\\\\Users\\\\Parvathi\\\\Documents\\\\file1.txt\",\"w\")\n",
        "file1.write(\"line1 \\n\\n line2\")\n",
        "file1.close()\n",
        "file1 = open(\"C:\\\\Users\\\\Parvathi\\\\Documents\\\\file1.txt\",\"r\")\n",
        "str = file1.read()\n",
        "str1 = str.replace(\"\\n\\n\",\"\")\n",
        "print(str)\n",
        "line1\n",
        "line2\n",
        "print(str1)\n",
        "line1 line2\n",
        "file1.close()\n",
        "file1 = open(\"C:\\\\Users\\\\Parvathi\\\\Documents\\\\file1.txt\",\"w\")\n",
        "file1.write(str1)\n",
        " \n",
        "file1.close()\n",
        "def copyFile(oldFile, newFile):\n",
        "  f1 = open(oldFile, \"r\")\n",
        "  f2 = open(newFile, \"w\")\n",
        "  while True:\n",
        "    text = f1.read(50)\n",
        "    if text == \"\":\n",
        "      break\n",
        "    f2.write(text)\n",
        "  f1.close()\n",
        "  f2.close()\n",
        "  return\n",
        " \n",
        "copyFile(\"C:\\\\Users\\\\Parvathi\\\\Documents\\\\file1.txt\",\"C:\\\\Users\\\\Parvathi\\\\Documents\\\\file2.txt\")\n",
        "file2 = open(\"C:\\\\Users\\\\Parvathi\\\\Documents\\\\file2.txt\",\"r\")\n",
        "print(file2.read())\n",
        "line1 line2"
      ],
      "execution_count": null,
      "outputs": []
    }
  ]
}