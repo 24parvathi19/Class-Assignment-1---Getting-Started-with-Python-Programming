{
  "nbformat": 4,
  "nbformat_minor": 0,
  "metadata": {
    "colab": {
      "name": "Untitled25.ipynb",
      "provenance": [],
      "authorship_tag": "ABX9TyMDrauqFfXpB+1WipIepNyu",
      "include_colab_link": true
    },
    "kernelspec": {
      "name": "python3",
      "display_name": "Python 3"
    }
  },
  "cells": [
    {
      "cell_type": "markdown",
      "metadata": {
        "id": "view-in-github",
        "colab_type": "text"
      },
      "source": [
        "<a href=\"https://colab.research.google.com/github/24parvathi19/Class-Assignment-1---Getting-Started-with-Python-Programming/blob/master/Session7.ipynb\" target=\"_parent\"><img src=\"https://colab.research.google.com/assets/colab-badge.svg\" alt=\"Open In Colab\"/></a>"
      ]
    },
    {
      "cell_type": "markdown",
      "metadata": {
        "id": "hakI4hyeSN0R"
      },
      "source": [
        "SESSION 7"
      ]
    },
    {
      "cell_type": "code",
      "metadata": {
        "colab": {
          "base_uri": "https://localhost:8080/"
        },
        "id": "xNGs9CxySRy4",
        "outputId": "efa794b1-b8f2-4171-a5e4-4a4bf9e98b25"
      },
      "source": [
        "#3.a \n",
        "fn = open(\"text.dat\",\"w\")\n",
        "w = \"Its a beautiful day\"\n",
        "w1 = \" Good morning\"\n",
        "w2 = \" It is going to snow soon\"\n",
        "fn.write(w)\n",
        "fn.write(w1)\n",
        "fn = open(\"text.dat\",\"r\")\n",
        "x1 = fn.read()\n",
        "x = x1.replace(w,w2)\n",
        "print(x)\n",
        "fn = open(\"text.dat\",\"w\")\n",
        "fn.write(x)"
      ],
      "execution_count": 3,
      "outputs": [
        {
          "output_type": "stream",
          "text": [
            " It is going to snow soon Good morningorning \n"
          ],
          "name": "stdout"
        },
        {
          "output_type": "execute_result",
          "data": {
            "text/plain": [
              "45"
            ]
          },
          "metadata": {
            "tags": []
          },
          "execution_count": 3
        }
      ]
    },
    {
      "cell_type": "code",
      "metadata": {
        "colab": {
          "base_uri": "https://localhost:8080/"
        },
        "id": "9RDgTKf3S-DC",
        "outputId": "f9958f87-23fa-44b2-c7fc-4cb8bed21d56"
      },
      "source": [
        "#3.b\n",
        "fp = open(\"text.dat\",\"w\")\n",
        "fp.write(\"problem solving \")\n",
        "fp.write(\"\\n with \")\n",
        "fp = open(\"text.dat\",\"r\")\n",
        "a = fp.read()\n",
        "fq= open(\"text2.dat\",\"w\")\n",
        "fq.write(\" python\")\n",
        "fq.write(\"\\n is an interesting subject\")\n",
        "fq = open(\"text2.dat\",\"r\")\n",
        "b = fq.read()\n",
        "a = a + b\n",
        "fr = open(\"new.dat\",\"w\")\n",
        "fr.write(a)\n",
        "fr = open(\"new.dat\",\"r\")\n",
        "print(fr.read())"
      ],
      "execution_count": 6,
      "outputs": [
        {
          "output_type": "stream",
          "text": [
            "problem solving \n",
            " with  python\n",
            " is an interesting subject\n"
          ],
          "name": "stdout"
        }
      ]
    },
    {
      "cell_type": "code",
      "metadata": {
        "colab": {
          "base_uri": "https://localhost:8080/"
        },
        "id": "R6OhdczjTRCW",
        "outputId": "c395985e-922a-40ac-c4e1-27973a42ec81"
      },
      "source": [
        "#4.a \n",
        "f1 = open(\"text.dat\",\"w\")\n",
        "f1.write(\"Hello good morning.\")\n",
        "f1.write(\"\\n It's raining today.\")\n",
        "f1.write(\"\\n ok then \")\n",
        "f1.close()\n",
        "f1 = open(\"text.dat\",\"r\")\n",
        "c =0\n",
        "for line in f1:\n",
        "   c+=1\n",
        "print(\"number of lines = \",c)"
      ],
      "execution_count": 7,
      "outputs": [
        {
          "output_type": "stream",
          "text": [
            "number of lines =  3\n"
          ],
          "name": "stdout"
        }
      ]
    },
    {
      "cell_type": "code",
      "metadata": {
        "colab": {
          "base_uri": "https://localhost:8080/"
        },
        "id": "ZOecmpSZThSG",
        "outputId": "7eb2f307-bfa0-4558-9d38-8bc9f729061a"
      },
      "source": [
        "#4.b\n",
        "f = open(\"txt.dat\",\"w\")\n",
        "word = \"korea italy paris india korea italy india india\"\n",
        "f.write(word)\n",
        "f = open(\"txt.dat\",\"r\")\n",
        "c = f.read()\n",
        "c = c.split(\" \")\n",
        "word1 =[]\n",
        "for i in c:\n",
        "  if i not in word1:\n",
        "     word1.append(i)\n",
        "for i in range(0,len(word1)):\n",
        "   print(\" frequency of the \",word1[i],\" is \",c.count(word1[i]))"
      ],
      "execution_count": 9,
      "outputs": [
        {
          "output_type": "stream",
          "text": [
            " frequency of the  korea  is  2\n",
            " frequency of the  italy  is  2\n",
            " frequency of the  paris  is  1\n",
            " frequency of the  india  is  3\n"
          ],
          "name": "stdout"
        }
      ]
    }
  ]
}