{
  "nbformat": 4,
  "nbformat_minor": 0,
  "metadata": {
    "colab": {
      "name": "programming exercise_session 18",
      "provenance": [],
      "collapsed_sections": [],
      "authorship_tag": "ABX9TyNBeYSluwtwn11QNrJQqwIF",
      "include_colab_link": true
    },
    "kernelspec": {
      "name": "python3",
      "display_name": "Python 3"
    }
  },
  "cells": [
    {
      "cell_type": "markdown",
      "metadata": {
        "id": "view-in-github",
        "colab_type": "text"
      },
      "source": [
        "<a href=\"https://colab.research.google.com/github/24parvathi19/Class-Assignment-1---Getting-Started-with-Python-Programming/blob/master/programming_exercise_session_18.ipynb\" target=\"_parent\"><img src=\"https://colab.research.google.com/assets/colab-badge.svg\" alt=\"Open In Colab\"/></a>"
      ]
    },
    {
      "cell_type": "markdown",
      "metadata": {
        "id": "CKVAmplaAmix"
      },
      "source": [
        "1. write a python program to get the largest number frome a list"
      ]
    },
    {
      "cell_type": "code",
      "metadata": {
        "id": "BJnGIJSb9p9G",
        "outputId": "4c73a483-b820-48e9-df4f-57672a3c19ae",
        "colab": {
          "base_uri": "https://localhost:8080/",
          "height": 34
        }
      },
      "source": [
        "list1 = [77,56,36,32,89] \n",
        "list1.sort() \n",
        "print(\"Largest number in the list is:\", list1[-1])"
      ],
      "execution_count": null,
      "outputs": [
        {
          "output_type": "stream",
          "text": [
            "Largest number in the list is: 89\n"
          ],
          "name": "stdout"
        }
      ]
    },
    {
      "cell_type": "markdown",
      "metadata": {
        "id": "ChKtIkQMA5v5"
      },
      "source": [
        "2. write a python program to search an element in a list"
      ]
    },
    {
      "cell_type": "code",
      "metadata": {
        "id": "3bhg-idU-ldr",
        "outputId": "b8ab181c-5276-4c43-f116-fdfc43902400",
        "colab": {
          "base_uri": "https://localhost:8080/",
          "height": 34
        }
      },
      "source": [
        "def search(list,item):\n",
        "  for i in range(len(list)):\n",
        "    if list[i]==item:\n",
        "      return True\n",
        "  return False\n",
        "list=['apple',5,8,'flower',7]\n",
        "item='apple'\n",
        "if search(list,item):\n",
        "  print(\"Found element in the list\")\n",
        "else:\n",
        "  print(\"Not found\")"
      ],
      "execution_count": null,
      "outputs": [
        {
          "output_type": "stream",
          "text": [
            "Found element in the list\n"
          ],
          "name": "stdout"
        }
      ]
    },
    {
      "cell_type": "markdown",
      "metadata": {
        "id": "978PzRkxBHbp"
      },
      "source": [
        "3. write a python program to sum all the items in a list"
      ]
    },
    {
      "cell_type": "code",
      "metadata": {
        "id": "9NkW_b89BOeC",
        "outputId": "7bc18d2c-3571-4901-aa0d-dfdcc3322cfb",
        "colab": {
          "base_uri": "https://localhost:8080/",
          "height": 34
        }
      },
      "source": [
        "list1=[5,6,2,4]\n",
        "newlist=sum(list1)\n",
        "print(\"Sum of all numbers in the list:\",newlist)"
      ],
      "execution_count": null,
      "outputs": [
        {
          "output_type": "stream",
          "text": [
            "Sum of all numbers in the list: 17\n"
          ],
          "name": "stdout"
        }
      ]
    },
    {
      "cell_type": "markdown",
      "metadata": {
        "id": "6U5TN2vhB_AB"
      },
      "source": [
        "4. write a python program to remove duplicates from a list"
      ]
    },
    {
      "cell_type": "code",
      "metadata": {
        "id": "NurUEZ8uCHnT",
        "outputId": "90906ebf-2be1-47e9-d29f-a2b3cee2169e",
        "colab": {
          "base_uri": "https://localhost:8080/",
          "height": 34
        }
      },
      "source": [
        "mylist=[1,5,4,6,2,3,7,2,3]\n",
        "newlist=set(mylist)\n",
        "print(newlist)"
      ],
      "execution_count": null,
      "outputs": [
        {
          "output_type": "stream",
          "text": [
            "{1, 2, 3, 4, 5, 6, 7}\n"
          ],
          "name": "stdout"
        }
      ]
    },
    {
      "cell_type": "markdown",
      "metadata": {
        "id": "eDF_9A4_C08s"
      },
      "source": [
        "5. write a python function that takes two lists and returns True if they have at least one common member"
      ]
    },
    {
      "cell_type": "code",
      "metadata": {
        "id": "-s_5rpHrDEn6",
        "outputId": "d6b9c1e0-ba40-40b4-a324-219c77bce483",
        "colab": {
          "base_uri": "https://localhost:8080/",
          "height": 34
        }
      },
      "source": [
        "def common_member(list1,list2):\n",
        "  result=False\n",
        "  for i in list1:\n",
        "    for j in list2:\n",
        "      if i==j:\n",
        "        result=True\n",
        "        return result\n",
        "  return result\n",
        "list1=[1,2,3,4,5]\n",
        "list2=[5,6,7,8,9]\n",
        "print(common_member(list1,list2))"
      ],
      "execution_count": null,
      "outputs": [
        {
          "output_type": "stream",
          "text": [
            "True\n"
          ],
          "name": "stdout"
        }
      ]
    },
    {
      "cell_type": "markdown",
      "metadata": {
        "id": "upEemHJLDwuw"
      },
      "source": [
        "6. write a program to append a list to the second list"
      ]
    },
    {
      "cell_type": "code",
      "metadata": {
        "id": "V6Tz0dZnD4kR",
        "outputId": "b5174a46-a13a-4bda-be27-bbabbb51ce5e",
        "colab": {
          "base_uri": "https://localhost:8080/",
          "height": 34
        }
      },
      "source": [
        "l1=[1,2,3]\n",
        "l2=[\"Italy\",\"Spain\",\"Korea\"]\n",
        "l1.extend(l2)\n",
        "print(\"New list is \",l1)"
      ],
      "execution_count": null,
      "outputs": [
        {
          "output_type": "stream",
          "text": [
            "New list is  [1, 2, 3, 'Italy', 'Spain', 'Korea']\n"
          ],
          "name": "stdout"
        }
      ]
    },
    {
      "cell_type": "markdown",
      "metadata": {
        "id": "DLj-46BGET-p"
      },
      "source": [
        "7. write a python program to check if a given number is a composite number or not"
      ]
    },
    {
      "cell_type": "code",
      "metadata": {
        "id": "fZtpsgFNEhak",
        "outputId": "2cfe3e77-2652-4f6c-c011-aced4a1e3cc6",
        "colab": {
          "base_uri": "https://localhost:8080/",
          "height": 50
        }
      },
      "source": [
        "n=int(input(\"Enter the number:\"))\n",
        "factor=0\n",
        "for  i in range(1,n):\n",
        "  if n%i==0:\n",
        "    factor=i\n",
        "if factor>1:\n",
        "  print(\"This is a composite number\")\n",
        "elif n==1:\n",
        "  print(\"This number 1 is neither prime nor composite\")\n",
        "else:\n",
        "  print(\"This is not a composite number\")"
      ],
      "execution_count": null,
      "outputs": [
        {
          "output_type": "stream",
          "text": [
            "Enter the number:5\n",
            "This is not a composite number\n"
          ],
          "name": "stdout"
        }
      ]
    },
    {
      "cell_type": "markdown",
      "metadata": {
        "id": "h0rR2WIOFhNc"
      },
      "source": [
        "8. write a python code to add two matrices using list"
      ]
    },
    {
      "cell_type": "code",
      "metadata": {
        "id": "RGgn6YoBFpT4",
        "outputId": "1c3b38c6-fcb1-4757-942b-adcaaf28dcec",
        "colab": {
          "base_uri": "https://localhost:8080/",
          "height": 67
        }
      },
      "source": [
        "X=[[1,2,3],[4,5,6],[7,8,9]]\n",
        "Y=[[9,8,7],[6,5,4],[3,2,1]]\n",
        "result=[[X[i][j] + Y[i][j] for j in range(len(X[0]))] for i in range(len(X))]\n",
        "for r in result:\n",
        "  print(r)"
      ],
      "execution_count": null,
      "outputs": [
        {
          "output_type": "stream",
          "text": [
            "[10, 10, 10]\n",
            "[10, 10, 10]\n",
            "[10, 10, 10]\n"
          ],
          "name": "stdout"
        }
      ]
    },
    {
      "cell_type": "markdown",
      "metadata": {
        "id": "zIjg0O8WHf3b"
      },
      "source": [
        "9. write a python program to check is a string is palindrome or not"
      ]
    },
    {
      "cell_type": "code",
      "metadata": {
        "id": "nj7acK1tHpIQ",
        "outputId": "ac260de2-7cb6-4293-d217-b2d12bc99eda",
        "colab": {
          "base_uri": "https://localhost:8080/",
          "height": 50
        }
      },
      "source": [
        "string=input(\"Enter a string:\")\n",
        "revstring =string[::-1]\n",
        "if(revstring==string):\n",
        "  print(\"This is a palindrome string\")\n",
        "else:\n",
        "  print(\"This is not a palindrome string\")"
      ],
      "execution_count": null,
      "outputs": [
        {
          "output_type": "stream",
          "text": [
            "Enter a string:malayalam\n",
            "This is a palindrome string\n"
          ],
          "name": "stdout"
        }
      ]
    },
    {
      "cell_type": "markdown",
      "metadata": {
        "id": "hAiZfPsaInvg"
      },
      "source": [
        "10. write a python program to print multiplication table of a number"
      ]
    },
    {
      "cell_type": "code",
      "metadata": {
        "id": "CwV51TZ3I4Ne",
        "outputId": "0b33d191-3530-4c7a-f619-9c200e399235",
        "colab": {
          "base_uri": "https://localhost:8080/",
          "height": 218
        }
      },
      "source": [
        "n=int(input(\"Enter the value\"))\n",
        "i=1\n",
        "while(i<=10):\n",
        "  print(i,\"*\",n,\"=\",i*n)\n",
        "  i=i+1\n",
        "print()"
      ],
      "execution_count": null,
      "outputs": [
        {
          "output_type": "stream",
          "text": [
            "Enter the value6\n",
            "1 * 6 = 6\n",
            "2 * 6 = 12\n",
            "3 * 6 = 18\n",
            "4 * 6 = 24\n",
            "5 * 6 = 30\n",
            "6 * 6 = 36\n",
            "7 * 6 = 42\n",
            "8 * 6 = 48\n",
            "9 * 6 = 54\n",
            "10 * 6 = 60\n",
            "\n"
          ],
          "name": "stdout"
        }
      ]
    }
  ]
}