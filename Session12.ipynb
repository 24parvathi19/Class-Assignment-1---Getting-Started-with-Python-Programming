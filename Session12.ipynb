{
  "nbformat": 4,
  "nbformat_minor": 0,
  "metadata": {
    "colab": {
      "name": "Untitled35.ipynb",
      "provenance": [],
      "authorship_tag": "ABX9TyOgPedg4py9plU0LPd4Eus8",
      "include_colab_link": true
    },
    "kernelspec": {
      "name": "python3",
      "display_name": "Python 3"
    }
  },
  "cells": [
    {
      "cell_type": "markdown",
      "metadata": {
        "id": "view-in-github",
        "colab_type": "text"
      },
      "source": [
        "<a href=\"https://colab.research.google.com/github/24parvathi19/Class-Assignment-1---Getting-Started-with-Python-Programming/blob/master/Session12.ipynb\" target=\"_parent\"><img src=\"https://colab.research.google.com/assets/colab-badge.svg\" alt=\"Open In Colab\"/></a>"
      ]
    },
    {
      "cell_type": "code",
      "metadata": {
        "id": "O5kilX_AeR19"
      },
      "source": [
        "s =0\n",
        "s1 =0\n",
        "a =0\n",
        "a1 =0\n",
        "c =0\n",
        "c1 =0\n",
        "for j in range(4):\n",
        "   j = int(input(\"enter no \"))\n",
        "   if j < 0:\n",
        "      c +=1\n",
        "      s += j\n",
        "      a = s/c\n",
        "   else: \n",
        "      c1 +=1\n",
        "      s1 += j\n",
        "      a1 = s1/c1\n",
        "print(s,a)\n",
        "print(s1,a1)"
      ],
      "execution_count": null,
      "outputs": []
    },
    {
      "cell_type": "code",
      "metadata": {
        "id": "yZxzeeZ-ee8Z"
      },
      "source": [
        "def list_of_frequency(str):\n",
        " dict ={}\n",
        " for n in str:\n",
        "  keys=dict.keys()\n",
        "  if n in keys:\n",
        "   dict[n]+=1\n",
        "  else:\n",
        "   dict[n]=1\n",
        " return dict\n",
        "print(list_of_frequency('anjana'))"
      ],
      "execution_count": null,
      "outputs": []
    },
    {
      "cell_type": "code",
      "metadata": {
        "id": "sLoyCN4jer8z"
      },
      "source": [
        "list = []\n",
        "n = int(input(\"Please enter the Total Number of List Elements: \"))\n",
        "for i in range(1, n + 1):\n",
        "    value = int(input(\"Please enter the Value of element:\"))\n",
        "    list.append(value)\n",
        "for i in range (n):\n",
        "    for j in range(i + 1, n):\n",
        "        if(list[i] >list[j]):\n",
        "            temp = list[i]\n",
        "            list[i] = list[j]\n",
        "            list[j] = temp\n",
        "print(\"Element After Sorting List in Ascending Order is : \", list)"
      ],
      "execution_count": null,
      "outputs": []
    },
    {
      "cell_type": "code",
      "metadata": {
        "id": "Y1iGfY3yeu91"
      },
      "source": [
        " \n",
        " \n",
        "def isPalindrome(s):\n",
        "    return s == s[::-1]\n",
        "s = \"malayalam\"\n",
        "ans = isPalindrome(s) \n",
        "if ans:\n",
        "    print(\"Yes\")\n",
        "else:\n",
        "    print(\"No\")"
      ],
      "execution_count": null,
      "outputs": []
    },
    {
      "cell_type": "code",
      "metadata": {
        "id": "LNipRreoeyEl"
      },
      "source": [
        " \n",
        "import math \n",
        "def cal_sin(n): \n",
        "    accuracy = 0.0001; \n",
        "    n = n * (math.pi / 180.0);  \n",
        "    x1 = n;\n",
        "    sinx = n;      \n",
        "    sinval = math.sin(n);  \n",
        "    i = 1; \n",
        "    while(True):\n",
        "        denominator = 2 * i * (2 * i + 1); \n",
        "        x1 = -x1 * n * n / denominator; \n",
        "        sinx = sinx + x1; \n",
        "        i = i + 1; \n",
        "        if(accuracy <= abs(sinval - sinx)): \n",
        "            break; \n",
        "    print(round(sinx)); \n",
        "n = 90; \n",
        "cal_sin(n);"
      ],
      "execution_count": null,
      "outputs": []
    },
    {
      "cell_type": "code",
      "metadata": {
        "id": "MOsfnoGne1F0"
      },
      "source": [
        "passW  = input(\" ENTER PASSWORD = \")\n",
        "c=0 \n",
        "c1=0\n",
        "c2=0\n",
        "c3 =0\n",
        "num = list(map(str,range(0,10)))\n",
        "if len(passW) < 6:\n",
        "   print(\"Password length too short. Minimum length of password should be 6\")\n",
        "else:\n",
        "  for i in passW:\n",
        "     if i.isupper() == True:\n",
        "        c +=1\n",
        "     elif i in num:\n",
        "        c1 +=1\n",
        "     elif i.islower() == True:\n",
        "        c2 +=1\n",
        "     elif i ==\"$\" or i ==\"#\" or i == \"@\":\n",
        "        c3 +=1\n",
        "if c >= 1 and c1 >= 1 and c2 >= 1 and c3>=1:\n",
        "    print(\"Password accepted\")\n",
        "else: \n",
        "    print(\"Password not accepted\")"
      ],
      "execution_count": null,
      "outputs": []
    }
  ]
}