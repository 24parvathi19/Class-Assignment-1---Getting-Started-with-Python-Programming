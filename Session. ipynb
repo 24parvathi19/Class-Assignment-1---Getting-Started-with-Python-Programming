{
  "nbformat": 4,
  "nbformat_minor": 0,
  "metadata": {
    "colab": {
      "name": "Untitled29.ipynb",
      "provenance": [],
      "collapsed_sections": [],
      "authorship_tag": "ABX9TyOKw4HNeumeGPkpRowLF3q7",
      "include_colab_link": true
    },
    "kernelspec": {
      "name": "python3",
      "display_name": "Python 3"
    }
  },
  "cells": [
    {
      "cell_type": "markdown",
      "metadata": {
        "id": "view-in-github",
        "colab_type": "text"
      },
      "source": [
        "<a href=\"https://colab.research.google.com/github/24parvathi19/Class-Assignment-1---Getting-Started-with-Python-Programming/blob/master/Session.%20ipynb\" target=\"_parent\"><img src=\"https://colab.research.google.com/assets/colab-badge.svg\" alt=\"Open In Colab\"/></a>"
      ]
    },
    {
      "cell_type": "code",
      "metadata": {
        "id": "py-USHYU3Z0s"
      },
      "source": [
        "#8. \n",
        "def is_Sublist(l, s):\n",
        " sub_set = False\n",
        " if s == []:\n",
        "  sub_set = True\n",
        " elif s == l:\n",
        "  sub_set = True\n",
        " elif len(s) > len(l):\n",
        "  sub_set = False\n",
        " \n",
        " else:\n",
        "  for i in range(len(l)):\n",
        "   if l[i] == s[0]:\n",
        "    n = 1\n",
        "    while (n < len(s)) and (l[i+n] == s[n]):\n",
        "     n += 1\n",
        "    \n",
        "    if n == len(s):\n",
        "     sub_set = True\n",
        " \n",
        " return sub_set\n",
        " \n",
        "a = [2,4,3,5,7]\n",
        "b = [4,3]\n",
        "c = [3,7]\n",
        "print(is_Sublist(a, b))\n",
        "print(is_Sublist(a, c))"
      ],
      "execution_count": null,
      "outputs": []
    },
    {
      "cell_type": "code",
      "metadata": {
        "id": "Hohf1vqc3dCl"
      },
      "source": [
        "#9. \n",
        "import collections\n",
        "my_list = [10,10,10,10,20,20,20,20,40,40,50,50,30]\n",
        "print(\"Original List : \",my_list)\n",
        "ctr = collections.Counter(my_list)\n",
        "print(\"Frequency of the elements in the List : \",ctr)"
      ],
      "execution_count": null,
      "outputs": []
    },
    {
      "cell_type": "code",
      "metadata": {
        "id": "Bcw4x2pa3hea"
      },
      "source": [
        "#10.\n",
        "a=[]\n",
        "n=int(input(\"Enter number of elements:\"))\n",
        "for i in range(1,n+1):\n",
        "    b=int(input(\"Enter element:\"))\n",
        "    a.append(b)\n",
        "a.sort()\n",
        "print(\"Second largest element is:\",a[n-2])"
      ],
      "execution_count": null,
      "outputs": []
    },
    {
      "cell_type": "code",
      "metadata": {
        "id": "Dgx7zx-T3l7v"
      },
      "source": [
        "#11.\n",
        "def count_range_in_list(li, min, max):\n",
        " ctr = 0\n",
        " for x in li:\n",
        "  if min <= x <= max:\n",
        "   ctr += 1\n",
        " return ctr\n",
        " \n",
        "list1 = [10,20,30,40,40,40,70,80,99]\n",
        "print(count_range_in_list(list1, 40, 100))\n",
        " \n",
        "list2 = ['a','b','c','d','e','f']\n",
        "print(count_range_in_list(list2, 'a', 'e'))"
      ],
      "execution_count": null,
      "outputs": []
    },
    {
      "cell_type": "code",
      "metadata": {
        "id": "fPVtd6GN37yY"
      },
      "source": [
        "#11. \n",
        "def second_smallest(numbers):\n",
        "  if (len(numbers)<2):\n",
        "    return\n",
        "  if ((len(numbers)==2)  and (numbers[0] == numbers[1]) ):\n",
        "    return\n",
        "  dup_items = set()\n",
        "  uniq_items = []\n",
        "  for x in numbers:\n",
        "    if x not in dup_items:\n",
        "      uniq_items.append(x)\n",
        "      dup_items.add(x)\n",
        "  uniq_items.sort()    \n",
        "  return  uniq_items[1]   \n",
        "\n",
        "print(second_smallest([1, 2, -8, -2, 0, -2]))\n",
        "print(second_smallest([1, 1, 0, 0, 2, -2, -2]))\n",
        "print(second_smallest([1, 1, 1, 0, 0, 0, 2, -2, -2]))\n",
        "print(second_smallest([2,2]))\n",
        "print(second_smallest([2]))"
      ],
      "execution_count": null,
      "outputs": []
    }
  ]
}