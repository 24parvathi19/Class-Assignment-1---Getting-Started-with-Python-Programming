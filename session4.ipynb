{
  "nbformat": 4,
  "nbformat_minor": 0,
  "metadata": {
    "colab": {
      "name": "Untitled22.ipynb",
      "provenance": [],
      "authorship_tag": "ABX9TyPW5iThtOdNa0J3VXq7yofs",
      "include_colab_link": true
    },
    "kernelspec": {
      "name": "python3",
      "display_name": "Python 3"
    }
  },
  "cells": [
    {
      "cell_type": "markdown",
      "metadata": {
        "id": "view-in-github",
        "colab_type": "text"
      },
      "source": [
        "<a href=\"https://colab.research.google.com/github/24parvathi19/Class-Assignment-1---Getting-Started-with-Python-Programming/blob/master/session4.ipynb\" target=\"_parent\"><img src=\"https://colab.research.google.com/assets/colab-badge.svg\" alt=\"Open In Colab\"/></a>"
      ]
    },
    {
      "cell_type": "code",
      "metadata": {
        "colab": {
          "base_uri": "https://localhost:8080/"
        },
        "id": "NUSDDnhtO8Sp",
        "outputId": "c4b6526a-94f8-4560-b98a-5a0f5d8d46af"
      },
      "source": [
        "class Circle():\n",
        "    def __init__(self, r):\n",
        "        self.rad = r\n",
        "\n",
        "    def area(self):\n",
        "        return self.rad**2*3.14\n",
        "    \n",
        "    def perimeter(self):\n",
        "        return 2*self.rad*3.14\n",
        "\n",
        "NewCircle = Circle(7)\n",
        "print(NewCircle.area())\n",
        "print(NewCircle.perimeter())\n"
      ],
      "execution_count": 5,
      "outputs": [
        {
          "output_type": "stream",
          "text": [
            "153.86\n",
            "43.96\n"
          ],
          "name": "stdout"
        }
      ]
    },
    {
      "cell_type": "code",
      "metadata": {
        "id": "rRdV8CVTFYmg"
      },
      "source": [
        "class RECTANGLE():\n",
        "    def _init_(self,height,width,x,y):\n",
        "        self.height = height\n",
        "        self.width  = width\n",
        "        self.corner_x = x\n",
        "        self.corner_y = y\n",
        "\n",
        "    def rec_center(self):\n",
        "        cx = (self.corner_x+self.width)/2\n",
        "        cy = (self.corner_y+self.height)/2\n",
        "        return [cx,cy]\n",
        "\n",
        "    def rec_area(self):\n",
        "        return self.height*self.width\n",
        "    \n",
        "    def rec_perimeter(self):\n",
        "        return 2*(self.height + self.width)\n",
        "\n",
        "h = int(input(\"Enter the height of rectangle: \"))\n",
        "w = int(input(\"Enter the width of rectangle: \"))\n",
        "x = int(input(\"Enter the first corner:\"))\n",
        "y = int(input(\"Enter the second corner: \"))\n",
        "obj = RECTANGLE(h,w,x,y)\n",
        "print(\"Center of rectangle is \",obj.rec_center())\n",
        "print(\"Area of rectangle is \",round(obj.rec_area(),2))\n",
        "print(\"Perimeter of rectangle is \",round(objrec_perimeter(),2))"
      ],
      "execution_count": null,
      "outputs": []
    }
  ]
}