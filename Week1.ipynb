{
  "nbformat": 4,
  "nbformat_minor": 0,
  "metadata": {
    "colab": {
      "name": "Untitled1.ipynb",
      "provenance": [],
      "collapsed_sections": [],
      "authorship_tag": "ABX9TyMd/DM7/0FjMS3dzI+zbSBo",
      "include_colab_link": true
    },
    "kernelspec": {
      "name": "python3",
      "display_name": "Python 3"
    }
  },
  "cells": [
    {
      "cell_type": "markdown",
      "metadata": {
        "id": "view-in-github",
        "colab_type": "text"
      },
      "source": [
        "<a href=\"https://colab.research.google.com/github/24parvathi19/Class-Assignment-1---Getting-Started-with-Python-Programming/blob/master/Week1.ipynb\" target=\"_parent\"><img src=\"https://colab.research.google.com/assets/colab-badge.svg\" alt=\"Open In Colab\"/></a>"
      ]
    },
    {
      "cell_type": "code",
      "metadata": {
        "id": "TJyMaUFmTCyE",
        "colab_type": "code",
        "colab": {
          "base_uri": "https://localhost:8080/",
          "height": 101
        },
        "outputId": "75ef6990-b316-4c9d-a2db-183af9d2037b"
      },
      "source": [
        "string1 = input(\"Enter the first string: \")\n",
        "print(string1,end = \"\\n\")\n",
        "string2 = input(\"Enter the second string: \")\n",
        "print(string2,end = \"\\n\")\n",
        "print(\"Are both strings equal or not: \",end = \" \")\n",
        "if (string1 == string2):\n",
        "  print(\"Equal\")\n",
        "else:\n",
        "  print(\"Not Equal\")"
      ],
      "execution_count": null,
      "outputs": [
        {
          "output_type": "stream",
          "text": [
            "Enter the first string: italy\n",
            "italy\n",
            "Enter the second string: ITALY\n",
            "ITALY\n",
            "Are both strings equal or not:  Not Equal\n"
          ],
          "name": "stdout"
        }
      ]
    },
    {
      "cell_type": "code",
      "metadata": {
        "id": "QL4vWA2-WFeP",
        "colab_type": "code",
        "colab": {
          "base_uri": "https://localhost:8080/",
          "height": 67
        },
        "outputId": "5e871177-6b43-4045-db3e-fbc734b748c3"
      },
      "source": [
        "a = int(input(\"Enter the first number: \"))\n",
        "b = int(input(\"Enter the second number: \"))\n",
        "sum = a+b\n",
        "print(\"sum = \",sum)\n"
      ],
      "execution_count": null,
      "outputs": [
        {
          "output_type": "stream",
          "text": [
            "Enter the first number: 33\n",
            "Enter the second number: 11\n",
            "sum =  44\n"
          ],
          "name": "stdout"
        }
      ]
    },
    {
      "cell_type": "code",
      "metadata": {
        "id": "1PWeSKsJWgLT",
        "colab_type": "code",
        "colab": {
          "base_uri": "https://localhost:8080/",
          "height": 50
        },
        "outputId": "001591d6-423a-41c7-b932-5bb2e841a814"
      },
      "source": [
        "number = int(input(\"Enter a number: \"))\n",
        "sqrt = number**0.5\n",
        "print(\"square root: \",sqrt)\n"
      ],
      "execution_count": null,
      "outputs": [
        {
          "output_type": "stream",
          "text": [
            "Enter a number: 49\n",
            "square root:  7.0\n"
          ],
          "name": "stdout"
        }
      ]
    },
    {
      "cell_type": "code",
      "metadata": {
        "id": "l1SQ4tlaWsHC",
        "colab_type": "code",
        "colab": {
          "base_uri": "https://localhost:8080/",
          "height": 84
        },
        "outputId": "b6b813a6-6d4b-48bc-d604-e5e66e1c606a"
      },
      "source": [
        "a = float(input(\"enter the first side: \"))\n",
        "b = float(input(\"enter the second side: \"))\n",
        "c = float(input(\"enter the third side: \"))\n",
        "s = (a+b+c)/2\n",
        "area = (s*(s-a)*(s-b)*(s-c))**0.5\n",
        "print(\"The area of the triangle is \",area)\n",
        "\n"
      ],
      "execution_count": null,
      "outputs": [
        {
          "output_type": "stream",
          "text": [
            "enter the first side: 5\n",
            "enter the second side: 4\n",
            "enter the third side: 6\n",
            "The area of the triangle is  9.921567416492215\n"
          ],
          "name": "stdout"
        }
      ]
    },
    {
      "cell_type": "code",
      "metadata": {
        "id": "u5_a6tnyXMDi",
        "colab_type": "code",
        "colab": {
          "base_uri": "https://localhost:8080/",
          "height": 50
        },
        "outputId": "96a33b70-1f0e-47d1-9478-a96cf69e63fb"
      },
      "source": [
        "celsius = float(input(\"enter the temperature in celsius: \"))\n",
        "fahrenheit = (celsius*9/5)+32\n",
        "print(\"Temperature in fahrenheit is: \",fahrenheit)\n"
      ],
      "execution_count": null,
      "outputs": [
        {
          "output_type": "stream",
          "text": [
            "enter the temperature in celsius: 100\n",
            "Temperature in fahrenheit is:  212.0\n"
          ],
          "name": "stdout"
        }
      ]
    },
    {
      "cell_type": "code",
      "metadata": {
        "id": "VhRPm_snXX7C",
        "colab_type": "code",
        "colab": {
          "base_uri": "https://localhost:8080/",
          "height": 50
        },
        "outputId": "b8e2bd3f-8227-4a50-a474-c9ccc2adacda"
      },
      "source": [
        "num = int(input(\"enter a number: \"))\n",
        "if num > 0:\n",
        "  print(\"{0} is a positive number\".format(num))\n",
        "elif num == 0:\n",
        "  print(\"{0} is zero\".format(num))\n",
        "else:\n",
        "  print(\"{0} is a negative number\".format(num))\n"
      ],
      "execution_count": null,
      "outputs": [
        {
          "output_type": "stream",
          "text": [
            "enter a number: 5\n",
            "5 is a positive number\n"
          ],
          "name": "stdout"
        }
      ]
    },
    {
      "cell_type": "code",
      "metadata": {
        "id": "rZoplnnoXi1v",
        "colab_type": "code",
        "colab": {
          "base_uri": "https://localhost:8080/",
          "height": 84
        },
        "outputId": "b0f8ff0b-61d4-41ee-97b6-0bfef6ae9184"
      },
      "source": [
        "num1 = int(input(\"enter the first number: \"))\n",
        "num2 = int(input(\"enter the second number: \"))\n",
        "num3 = int(input(\"enter the third number: \"))\n",
        "if(num1 > num2) and (num1 > num3):\n",
        "  largest = num1\n",
        "elif(num2 > num1) and (num2 > num3):\n",
        "  largest = num2\n",
        "else:\n",
        "  largest = num3\n",
        "print(\"the largest number is \",largest)\n"
      ],
      "execution_count": null,
      "outputs": [
        {
          "output_type": "stream",
          "text": [
            "enter the first number: 45\n",
            "enter the second number: 25\n",
            "enter the third number: 78\n",
            "the largest number is  78\n"
          ],
          "name": "stdout"
        }
      ]
    }
  ]
}